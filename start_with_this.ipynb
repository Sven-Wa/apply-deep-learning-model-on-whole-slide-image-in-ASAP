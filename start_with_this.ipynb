{
 "cells": [
  {
   "cell_type": "markdown",
   "metadata": {},
   "source": [
    "### 1. Go to ASAP and Load a Whole Slide image"
   ]
  },
  {
   "cell_type": "markdown",
   "metadata": {},
   "source": [
    "### 2. Draw a Rectangle and save it inside an empthy folder"
   ]
  },
  {
   "cell_type": "markdown",
   "metadata": {},
   "source": [
    "### 3. specfiy model"
   ]
  },
  {
   "cell_type": "code",
   "execution_count": 9,
   "metadata": {},
   "outputs": [],
   "source": [
    "# you have to provide file with your model architecture\n",
    "from UNet import Unet\n",
    "model_architecture = Unet()"
   ]
  },
  {
   "cell_type": "markdown",
   "metadata": {},
   "source": [
    "### 4. Specify Directories"
   ]
  },
  {
   "cell_type": "code",
   "execution_count": 10,
   "metadata": {},
   "outputs": [],
   "source": [
    "import os\n",
    "\n",
    "# specify the path to the Whole Slide Image\n",
    "WSI_path = \"/home/sven/Desktop/data/WSI/SS11.17124_2E1_HE.mrxs\"\n",
    "\n",
    "# specify the path to the weights of your trained model\n",
    "weights_path = \"/home/sven/Desktop/results/Abstract_results/GlaS_pT1_SMALL/pT1_SMALL/model_name=unet/batch_size=32/epochs=60/lr=0.01/decay_lr=10/momentum=0.9/workers=5/imgs_in_memory=5/crop_size=256/crops_per_image=10/19-01-20-16h-57m-13s/model_best.pth.tar\"\n",
    "\n",
    "# specify input folder (xml file with coordinates of ROI (Rectangel coordinates))\n",
    "input_folder = \"/home/sven/Desktop/data/WSI/MakePrediction\"\n",
    "\n",
    "# sepfify output folder ()\n",
    "output_folder = \"/home/sven/Desktop/data/WSI/MakePrediction_Result\"\n",
    "\n",
    "name_prediction_file = \"prediction\""
   ]
  },
  {
   "cell_type": "markdown",
   "metadata": {},
   "source": [
    "### run model prediction"
   ]
  },
  {
   "cell_type": "code",
   "execution_count": 11,
   "metadata": {},
   "outputs": [],
   "source": [
    "from make_predictions import MakePrediction\n",
    "\n",
    "# Specify name of output-file\n",
    "name_prediction_file = \"prediction\"\n",
    "# list files from from input folder\n",
    "xml_files= os.listdir(input_folder)\n",
    "\n",
    "# iterate over all input files\n",
    "c = 0\n",
    "for xml_file in xml_files:\n",
    "    c +=1\n",
    "    xml_file_path = os.path.join(folder_path, xml_file)\n",
    "    name_prediction_file = name_prediction_file + str(c)\n",
    "    \n",
    "    # predicts a single xml input file\n",
    "    prediction = MakePrediction(WSI_path, xml_file_path, weights_path=weights_path, model_architecture=model_architecture)\n",
    "    prediction.save_coordinates_of_prediction_in_xml_file(output_folder, name_prediction_file)"
   ]
  },
  {
   "cell_type": "markdown",
   "metadata": {},
   "source": [
    "### Go to ASAP and Load your prediction"
   ]
  }
 ],
 "metadata": {
  "kernelspec": {
   "display_name": "Python 3",
   "language": "python",
   "name": "python3"
  },
  "language_info": {
   "codemirror_mode": {
    "name": "ipython",
    "version": 3
   },
   "file_extension": ".py",
   "mimetype": "text/x-python",
   "name": "python",
   "nbconvert_exporter": "python",
   "pygments_lexer": "ipython3",
   "version": "3.7.4"
  }
 },
 "nbformat": 4,
 "nbformat_minor": 2
}
